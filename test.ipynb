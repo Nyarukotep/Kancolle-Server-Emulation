{
 "cells": [
  {
   "cell_type": "code",
   "execution_count": 81,
   "metadata": {},
   "outputs": [],
   "source": [
    "import sqlite3\n",
    "class database:\n",
    "    def __init__(self, path):\n",
    "        self.conn = sqlite3.connect(path)\n",
    "        self.conn.isolation_level = None\n",
    "    def insert(self, table_name, content):\n",
    "        if isinstance(content, list): content = tuple(content)\n",
    "        sql = 'INSERT INTO \\'$table_name\\' VALUES ' + str(content)\n",
    "        self.conn.execute(sql.replace('$table_name', table_name))\n",
    "    def delete(self, table_name, filter):\n",
    "        if isinstance(filter, str):\n",
    "            sql = 'DELETE FROM \\'$table_name\\' WHERE ' + filter\n",
    "            self.conn.execute(sql.replace('$table_name', table_name))\n",
    "        else:\n",
    "            sql = 'DELETE FROM \\'$table_name\\' WHERE ' + str(filter[0]) + '=\\'' + str(filter[1]) + '\\''\n",
    "            self.conn.execute(sql.replace('$table_name', table_name))\n",
    "    def select(self, table_name, column, filter):\n",
    "        column = str(column)[1:-1]\n",
    "        column = column.replace(\"'\",'')\n",
    "        column = column.replace('\"','')\n",
    "        if isinstance(filter, str):\n",
    "            sql = 'SELECT ' + column + ' FROM \\'$table_name\\' WHERE ' + filter\n",
    "            return self.conn.execute(sql.replace('$table_name', table_name)).fetchall()\n",
    "        else:\n",
    "            sql = 'SELECT ' + column + ' FROM \\'$table_name\\' WHERE ' + str(filter[0]) + '=\\'' + str(filter[1]) + '\\''\n",
    "            return self.conn.execute(sql.replace('$table_name', table_name)).fetchall()\n",
    "    def exit(self):\n",
    "        self.conn.close()\n"
   ]
  },
  {
   "cell_type": "code",
   "execution_count": 99,
   "metadata": {},
   "outputs": [],
   "source": [
    "db = database('data.db')"
   ]
  },
  {
   "cell_type": "code",
   "execution_count": 76,
   "metadata": {},
   "outputs": [],
   "source": [
    "db.insert('$user', ('bb','bcd'))"
   ]
  },
  {
   "cell_type": "code",
   "execution_count": 102,
   "metadata": {},
   "outputs": [
    {
     "name": "stdout",
     "output_type": "stream",
     "text": [
      "b'<!DOCTYPE html>\\n<html lang=\"en\">\\n\\t<head>\\n\\t\\t<meta charset=\"UTF-8\">\\n\\t\\t<title>CodePen - Web Terminal</title>\\n        <style type=\"text/css\">\\n            @font-face{\\n                font-family: A-OTF;\\n                src:url(\\'UDShinGoPro_Regular.woff2\\');\\n            }\\n            body{\\n                background:#eee;\\n                background-size:cover;\\n                font-family: A-OTF;\\n                padding:0;\\n                margin:0;\\n            }\\n            body::-webkit-scrollbar{\\n                display:none;\\n            }\\n            .nav{\\n                width: 100vw;\\n                height: 4vw;\\n                background:#54626f;\\n                top:0;\\n            }\\n            .link_left{\\n                width: 8vw;\\n                height: 4vw;\\n                float: left;\\n                color:white;\\n                font-size: 20px;\\n                text-align:center;\\n                line-height: 4vw;\\n                text-decoration:none;\\n                transition: all 0.2s linear\\n            }\\n            .link_left:hover{\\n                background:#5f6e7d;\\n                box-shadow: inset 0 -5px 0 #3ebed3;\\n                transition: all 0.2s linear\\n            }\\n            \\n            .link_left a{\\n                color:white;\\n                text-decoration:none;\\n            }\\n            \\n            .link_right{\\n                padding:0 15px 0 0;\\n                float:right;\\n                line-height: 4vw;\\n                transition: all 0.2s linear\\n            }\\n            .link_right a:hover{\\n                color:darkgray;\\n                transition: all 0.2s linear\\n            }\\n            .link_right a{\\n                color:white;\\n                text-decoration:none;\\n            }\\n            #container{\\n                width: 40vw;\\n                height: 30vw;\\n                background: #FFFFFF;\\n                border-radius: 0px;\\n                margin:5vw auto;\\n                word-wrap:break-word; \\n                word-break:break-all; \\n                box-shadow:0 3px 20px 0px rgba(0, 0, 0, 0.2);\\n                animation:\\n                fadein 0.8s ease-in-out;\\n            }\\n            @keyframes fadein {\\n                0%   { opacity: 0;}\\n                100% { opacity: 1;}\\n            }\\n            #container input{\\n                position: relative;\\n                width:26vw;\\n                height: 4vw;\\n                line-height: 4vw;\\n                font-size:16px;\\n                padding:0 2vw 0 2vw;\\n                margin: 2vh 5vw 2vh 5vw;\\n                border:none;\\n                background:#f2f2f2;\\n                outline:none;\\n                font-weight: bold;\\n                transition:0.4s;\\n            }\\n\\n            #container input:focus{\\n                transform:scaleX(1.02);\\n            }\\n            #container p{\\n                padding:0;\\n                margin: 0;\\n                font-size:16px;\\n                line-height: 3vw;\\n                text-align: center;\\n                font-weight: bold;\\n            }\\n\\n            #container p a{\\n                color:#009fc4;\\n                text-decoration: none;\\n                transition:0.2s;\\n            }\\n\\n            #container p a:hover{\\n                color:#222;\\n            }\\n            #toggle{\\n                width: 40vw;\\n                height: 5vw;\\n                border-radius: 0px;\\n            }\\n            #log_btn{\\n                width: 20vw;\\n                height: 5vw;\\n                border-radius: 0px;\\n                border: none;\\n                float:left;\\n                transition: all 0.2s linear;\\n                background: #ffffff;\\n                font-size:16px;\\n                color: #505260;\\n                font-weight: bold;\\n            }\\n            #reg_btn{\\n                width: 20vw;\\n                height: 5vw;\\n                border-radius: 0px;\\n                border: none;\\n                float:left;\\n                transition: all 0.2s linear;\\n                background: #d2d8d8;\\n                font-size:16px;\\n                color: #809191;\\n                font-weight: bold;\\n            }\\n            #login{\\n                width: 40vw;\\n                height: fit-content;\\n                border-radius: 0px;\\n                display:block;\\n            }\\n            #register{\\n                width: 40vw;\\n                height: fit-content;\\n                border-radius: 0px;\\n                display:none;\\n            }\\n            #submit_btn{\\n                width: 30vw;\\n                height: 8vh;\\n                margin: 2vh 5vw 2vh 5vw;\\n                border-radius: 0px;\\n                border: none;\\n                float:left;\\n                background: #009fc4;\\n                color: white;\\n                font-size:16px;\\n                font-weight: bold;\\n                transition: all 0.2s linear\\n            }\\n            #submit_btn:hover{\\n                background: #3ebed3;\\n                transition: all 0.2s linear\\n            }\\n        </style>\\n\\t</head>\\n\\t<body>\\n\\t\\t<div class=\"nav\">\\n\\t\\t\\t<div class=\"link_left\"><a href=\"#\">KSE</a></div>\\n\\t\\t</div>\\n        <div id=\"container\">\\n            <div id=\"toggle\">\\n                <button id=\"log_btn\" onclick=\"login()\">Log in</button>\\n                <button id=\"reg_btn\" onclick=\"register()\">New account</button>\\n            </div>\\n            <div id=\"login\">\\n                <form method=\"post\">\\n                    <p>\\xe3\\x80\\x80</p>\\n                    <input name=\"logid\" type=\"text\" placeholder=\"Username\"/>\\n                    <input name=\"logpwd\" type=\"password\" placeholder=\"Password\"/>\\n                    <button id=\"submit_btn\">Log in</button>\\n                </form>\\n            </div>\\n            <div id=\"register\">\\n                <form method=\"post\">\\n                    <p>\\xe3\\x80\\x80</p>\\n                    <input name=\"regid\" type=\"text\" placeholder=\"Username\"/>\\n                    <input name=\"regpwd1\" type=\"password\" placeholder=\"Password\"/>\\n                    <input name=\"regpwd2\" type=\"password\" placeholder=\"Confirm password\"/>\\n                    <button id=\"submit_btn\">Create account</button>\\n                </form>\\n            </div>\\n        </div>\\n    <script type=\\'text/javascript\\'>\\n        function login(){\\n            document.getElementById(\"log_btn\").style.backgroundColor=\"#ffffff\";\\n            document.getElementById(\"log_btn\").style.color=\"#505260\";\\n            document.getElementById(\"reg_btn\").style.backgroundColor=\"#d2d8d8\";\\n            document.getElementById(\"reg_btn\").style.color=\"#809191\";\\n            document.getElementById(\"register\").style.display=\"none\";\\n            document.getElementById(\"login\").style.display=\"block\";\\n            document.getElementById(\"container\").style.height=\"30vw\";\\n        }\\n        function register(){\\n            document.getElementById(\"log_btn\").style.backgroundColor=\"#d2d8d8\";\\n            document.getElementById(\"log_btn\").style.color=\"#809191\";\\n            document.getElementById(\"reg_btn\").style.backgroundColor=\"#ffffff\";\\n            document.getElementById(\"reg_btn\").style.color=\"#505260\";\\n            document.getElementById(\"login\").style.display=\"none\";\\n            document.getElementById(\"register\").style.display=\"block\";\\n            document.getElementById(\"container\").style.height=\"36vw\";\\n        }\\n    </script>\\n\\t</body>\\n</html>\\n'\n"
     ]
    }
   ],
   "source": [
    "print(db.select('$resource', ['content'], ['id','login'])[0][0])"
   ]
  },
  {
   "cell_type": "code",
   "execution_count": 83,
   "metadata": {},
   "outputs": [],
   "source": [
    "db.exit()"
   ]
  },
  {
   "cell_type": "code",
   "execution_count": 97,
   "metadata": {},
   "outputs": [
    {
     "name": "stdout",
     "output_type": "stream",
     "text": [
      "['2006-01-05', b'BUY', 'RHAT']'\n"
     ]
    }
   ],
   "source": [
    "a = [\"2006-01-05\",b'BUY','RHAT']\n",
    "a=str(a)+'\\''\n",
    "print(a)"
   ]
  },
  {
   "cell_type": "code",
   "execution_count": null,
   "metadata": {},
   "outputs": [],
   "source": [
    "import sqlite3\n",
    "con = sqlite3.connect('example.db')\n",
    "cur = con.cursor()\n",
    "\n",
    "# Create table\n",
    "cur.execute('''CREATE TABLE stocks\n",
    "               (date text, trans text, symbol text, qty real, price real)''')\n",
    "\n",
    "# Insert a row of data\n",
    "cur.execute(\"INSERT INTO stocks VALUES ('2006-01-05','BUY','RHAT',100,35.14)\")\n",
    "\n",
    "# Save (commit) the changes\n",
    "con.commit()\n",
    "\n",
    "# We can also close the connection if we are done with it.\n",
    "# Just be sure any changes have been committed or they will be lost.\n",
    "con.close()"
   ]
  },
  {
   "cell_type": "code",
   "execution_count": 93,
   "metadata": {},
   "outputs": [
    {
     "data": {
      "text/plain": [
       "False"
      ]
     },
     "execution_count": 93,
     "metadata": {},
     "output_type": "execute_result"
    }
   ],
   "source": [
    "fl = open('login.html', 'rb')\n",
    "\n",
    "with fl:\n",
    "    data = fl.read()\n",
    "isinstance(data,str)"
   ]
  },
  {
   "cell_type": "code",
   "execution_count": 98,
   "metadata": {},
   "outputs": [],
   "source": [
    "import sqlite3 as lite\n",
    "\n",
    "fl = open('1.png', 'rb')\n",
    "\n",
    "with fl:\n",
    "    data = fl.read()\n",
    "\n",
    "con = lite.connect('test.db')\n",
    "\n",
    "with con:\n",
    "\n",
    "    cur = con.cursor()     \n",
    "\n",
    "    cur.execute(\"CREATE TABLE IF NOT EXISTS Docs(Data BLOB)\")\n",
    "\n",
    "    sql = \"INSERT INTO Docs(Data) VALUES (?)\" \n",
    "    cur.execute(sql, (data, ))\n",
    "con.close()"
   ]
  },
  {
   "cell_type": "code",
   "execution_count": 3,
   "metadata": {},
   "outputs": [
    {
     "name": "stdout",
     "output_type": "stream",
     "text": [
      "b'<!DOCTYPE html>\\n<head>\\n<title>WebSocket</title>\\n<meta charset=\"utf-8\">\\n<style>\\n html,body{font:normal 0.9em arial,helvetica;}\\n #log {width:440px; height:200px; border:1px solid #7F9DB9; overflow:auto;}\\n #msg {width:440px;}\\n</style>\\n<script>\\n    var socket;\\n    function init(){\\n        var host = \"$websocket$\";\\n        try{\\n            socket = new WebSocket(host);\\n            socket.onopen    = function(msg){ \\n                console.log(\"socket session create sucess!\"); \\n                log(\"socket session create sucess!\");\\n            };\\n            socket.onmessage = function(msg){ \\n                console.log(\"message Sucess\");\\n                log(msg.data)\\n            };\\n            socket.onclose   = function(msg){ console.log(\"close Sucess\"); log(\"Connection Lose!\"); };\\n            socket.onerror   = function(msg){ console.log(\"Error!\"); };\\n        }catch(ex){\\n            log(ex);\\n        }\\n        $(\"msg\").focus();\\n}\\n\\n    function send(){\\n        var txt,msg;\\n        txt = $(\"msg\");\\n        msg = txt.value;\\n        console.log(\"message is\", msg)\\n        if(!msg){ \\n            alert(\"Message can not be empty\"); \\n            return;\\n        }\\n        txt.value=\"\";\\n        txt.focus();\\n        try{ \\n            //log(msg);\\n            socket.send(msg);\\n        }catch(ex){\\n            log(ex);\\n        }\\n}\\n\\n    window.onbeforeunload=function(){\\n        try{ \\n            socket.send(\\'quit\\');\\n            socket.close();\\n            socket=null;\\n        }catch(ex){ \\n            log(ex);\\n        }\\n    };\\n\\n    function $(id){\\n        return document.getElementById(id);\\n    }\\n    function log(msg){ \\n        $(\"log\").innerHTML+=msg+\"<br>\";\\n        $(\\'log\\').scrollTop = $(\\'log\\').scrollHeight;\\n    }\\n    function onkey(event){\\n        if(event.keyCode==13){ \\n            send(); \\n        }\\n    }\\n</script>\\n</head>\\n<body onload=\"init()\">\\n    <h3>WebSocket</h3>\\n    <br><br>\\n    <div id=\"log\"></div>\\n    <input id=\"msg\" type=\"textbox\" onkeypress=\"onkey(event)\"/>\\n    <button onclick=\"send()\">Send</button>\\n</body>\\n</html>'\n"
     ]
    }
   ],
   "source": [
    "con = lite.connect('test.db')\n",
    "for row in con.execute(\"select Data from Docs\"):\n",
    "    print(row[0])\n",
    "con.close()"
   ]
  },
  {
   "cell_type": "code",
   "execution_count": 18,
   "metadata": {},
   "outputs": [],
   "source": [
    "import sqlite3 as lite\n",
    "\n",
    "fl = open('login.html', 'rb')\n",
    "\n",
    "with fl:\n",
    "    data = fl.read()\n",
    "\n",
    "con = lite.connect('test.db')\n",
    "\n",
    "with con:\n",
    "\n",
    "    cur = con.cursor()     \n",
    "\n",
    "    cur.execute(\"CREATE TABLE IF NOT EXISTS Docs(Data BLOB)\")\n",
    "\n",
    "    sql = \"INSERT INTO Docs VALUES (?)\" \n",
    "    cur.execute(sql, [lite.Binary(data)])\n",
    "con.close()"
   ]
  },
  {
   "cell_type": "code",
   "execution_count": 2,
   "metadata": {},
   "outputs": [],
   "source": [
    "import sqlite3 as lite\n",
    "fl = open('index.html', 'rb')\n",
    "with fl:\n",
    "    data = fl.read()\n",
    "con = lite.connect('data.db')\n",
    "with con:\n",
    "    cur = con.cursor()\n",
    "    sql = \"INSERT INTO '$resource' VALUES (?,?)\"\n",
    "    cur.execute(sql, ('index', lite.Binary(data)))\n",
    "con.close()"
   ]
  },
  {
   "cell_type": "code",
   "execution_count": 1,
   "metadata": {},
   "outputs": [],
   "source": [
    "import sqlite3 as lite\n",
    "fl = open('background.png', 'rb')\n",
    "with fl:\n",
    "    data = fl.read()\n",
    "con = lite.connect('data.db')\n",
    "with con:\n",
    "    cur = con.cursor()\n",
    "    sql = \"DELETE FROM '$resource' WHERE ID = (?)\"\n",
    "    cur.execute(sql, ('index',))\n",
    "con.close()\n"
   ]
  },
  {
   "cell_type": "code",
   "execution_count": 40,
   "metadata": {},
   "outputs": [
    {
     "name": "stdout",
     "output_type": "stream",
     "text": [
      "b'<!DOCTYPE html>\\n<html lang=\"en\">\\n\\t<head>\\n\\t\\t<meta charset=\"UTF-8\">\\n\\t\\t<title>CodePen - Web Terminal</title>\\n        <style type=\"text/css\">\\n            @font-face{\\n                font-family: A-OTF;\\n                src:url(\\'UDShinGoPro_Regular.woff2\\');\\n            }\\n            body{\\n                background:#eee;\\n                background-size:cover;\\n                font-family: A-OTF;\\n                padding:0;\\n                margin:0;\\n            }\\n            body::-webkit-scrollbar{\\n                display:none;\\n            }\\n            .nav{\\n                width: 100vw;\\n                height: 4vw;\\n                background:#54626f;\\n                top:0;\\n            }\\n            .link_left{\\n                width: 8vw;\\n                height: 4vw;\\n                float: left;\\n                color:white;\\n                font-size: 20px;\\n                text-align:center;\\n                line-height: 4vw;\\n                text-decoration:none;\\n                transition: all 0.2s linear\\n            }\\n            .link_left:hover{\\n                background:#5f6e7d;\\n                box-shadow: inset 0 -5px 0 #3ebed3;\\n                transition: all 0.2s linear\\n            }\\n            \\n            .link_left a{\\n                color:white;\\n                text-decoration:none;\\n            }\\n            \\n            .link_right{\\n                padding:0 15px 0 0;\\n                float:right;\\n                line-height: 4vw;\\n                transition: all 0.2s linear\\n            }\\n            .link_right a:hover{\\n                color:darkgray;\\n                transition: all 0.2s linear\\n            }\\n            .link_right a{\\n                color:white;\\n                text-decoration:none;\\n            }\\n            #container{\\n                width: 40vw;\\n                height: 30vw;\\n                background: #FFFFFF;\\n                border-radius: 0px;\\n                margin:5vw auto;\\n                word-wrap:break-word; \\n                word-break:break-all; \\n                box-shadow:0 3px 20px 0px rgba(0, 0, 0, 0.2);\\n                animation:\\n                fadein 0.8s ease-in-out 1s forwards;\\n            }\\n            @keyframes fadein {\\n                0%   { opacity: 0;}\\n                100% { opacity: 1;}\\n            }\\n            #container input{\\n                position: relative;\\n                width:26vw;\\n                height: 4vw;\\n                line-height: 4vw;\\n                font-size:16px;\\n                padding:0 2vw 0 2vw;\\n                margin: 2vh 5vw 2vh 5vw;\\n                border:none;\\n                background:#f2f2f2;\\n                outline:none;\\n                font-weight: bold;\\n                transition:0.4s;\\n            }\\n\\n            #container input:focus{\\n                transform:scaleX(1.02);\\n            }\\n            #container p{\\n                padding:0;\\n                margin: 0;\\n                font-size:16px;\\n                line-height: 3vw;\\n                text-align: center;\\n                font-weight: bold;\\n            }\\n\\n            #container p a{\\n                color:#009fc4;\\n                text-decoration: none;\\n                transition:0.2s;\\n            }\\n\\n            #container p a:hover{\\n                color:#222;\\n            }\\n            #toggle{\\n                width: 40vw;\\n                height: 5vw;\\n                border-radius: 0px;\\n            }\\n            #log_btn{\\n                width: 20vw;\\n                height: 5vw;\\n                border-radius: 0px;\\n                border: none;\\n                float:left;\\n                transition: all 0.2s linear;\\n                background: #ffffff;\\n                font-size:16px;\\n                color: #505260;\\n                font-weight: bold;\\n            }\\n            #reg_btn{\\n                width: 20vw;\\n                height: 5vw;\\n                border-radius: 0px;\\n                border: none;\\n                float:left;\\n                transition: all 0.2s linear;\\n                background: #d2d8d8;\\n                font-size:16px;\\n                color: #809191;\\n                font-weight: bold;\\n            }\\n            #login{\\n                width: 40vw;\\n                height: fit-content;\\n                border-radius: 0px;\\n                display:block;\\n            }\\n            #register{\\n                width: 40vw;\\n                height: fit-content;\\n                border-radius: 0px;\\n                display:none;\\n            }\\n            #submit_btn{\\n                width: 30vw;\\n                height: 8vh;\\n                margin: 2vh 5vw 2vh 5vw;\\n                border-radius: 0px;\\n                border: none;\\n                float:left;\\n                background: #009fc4;\\n                color: white;\\n                font-size:16px;\\n                font-weight: bold;\\n                transition: all 0.2s linear\\n            }\\n            #submit_btn:hover{\\n                background: #3ebed3;\\n                transition: all 0.2s linear\\n            }\\n        </style>\\n\\t</head>\\n\\t<body>\\n\\t\\t<div class=\"nav\">\\n\\t\\t\\t<div class=\"link_left\"><a href=\"#\">KSE</a></div>\\n\\t\\t</div>\\n        <div id=\"container\">\\n            <div id=\"toggle\">\\n                <button id=\"log_btn\" onclick=\"login()\">Log in</button>\\n                <button id=\"reg_btn\" onclick=\"register()\">New account</button>\\n            </div>\\n            <div id=\"login\">\\n                <form method=\"post\">\\n                    <p>\\xe3\\x80\\x80</p>\\n                    <input type=\"text\" placeholder=\"Username\"/>\\n                    <input type=\"password\" placeholder=\"Password\"/>\\n                    <button id=\"submit_btn\">Log in</button>\\n                </form>\\n            </div>\\n            <div id=\"register\">\\n                <form method=\"post\">\\n                    <p>\\xe3\\x80\\x80</p>\\n                    <input type=\"text\" placeholder=\"Username\"/>\\n                    <input type=\"password\" placeholder=\"Password\"/>\\n                    <input type=\"password\" placeholder=\"Confirm password\"/>\\n                    <button id=\"submit_btn\">Create account</button>\\n                </form>\\n            </div>\\n        </div>\\n    <script type=\\'text/javascript\\'>\\n        function login(){\\n            document.getElementById(\"log_btn\").style.backgroundColor=\"#ffffff\";\\n            document.getElementById(\"log_btn\").style.color=\"#505260\";\\n            document.getElementById(\"reg_btn\").style.backgroundColor=\"#d2d8d8\";\\n            document.getElementById(\"reg_btn\").style.color=\"#809191\";\\n            document.getElementById(\"register\").style.display=\"none\";\\n            document.getElementById(\"login\").style.display=\"block\";\\n            document.getElementById(\"container\").style.height=\"30vw\";\\n        }\\n        function register(){\\n            document.getElementById(\"log_btn\").style.backgroundColor=\"#d2d8d8\";\\n            document.getElementById(\"log_btn\").style.color=\"#809191\";\\n            document.getElementById(\"reg_btn\").style.backgroundColor=\"#ffffff\";\\n            document.getElementById(\"reg_btn\").style.color=\"#505260\";\\n            document.getElementById(\"login\").style.display=\"none\";\\n            document.getElementById(\"register\").style.display=\"block\";\\n            document.getElementById(\"container\").style.height=\"36vw\";\\n        }\\n    </script>\\n\\t</body>\\n</html>\\n'\n"
     ]
    }
   ],
   "source": [
    "import sqlite3 as lite\n",
    "con = lite.connect('data.db')\n",
    "with con:\n",
    "    cur = con.cursor()\n",
    "    sql = \"SELECT * FROM '$resource' WHERE id = 'login'\"\n",
    "    a = cur.execute(sql).fetchone()[1]\n",
    "    print(a)\n",
    "con.close()\n"
   ]
  },
  {
   "cell_type": "code",
   "execution_count": 8,
   "metadata": {},
   "outputs": [],
   "source": [
    "a = 'logid=aaaaaa&logpwd=sfdsbfckjsdsdcdsc'"
   ]
  },
  {
   "cell_type": "code",
   "execution_count": 17,
   "metadata": {},
   "outputs": [
    {
     "data": {
      "text/plain": [
       "2"
      ]
     },
     "execution_count": 17,
     "metadata": {},
     "output_type": "execute_result"
    }
   ],
   "source": [
    "len([i.split('=',1)[1] for i in a.split('&')])"
   ]
  },
  {
   "cell_type": "code",
   "execution_count": 11,
   "metadata": {},
   "outputs": [],
   "source": [
    "b = a.split('&')"
   ]
  },
  {
   "cell_type": "code",
   "execution_count": 13,
   "metadata": {},
   "outputs": [
    {
     "data": {
      "text/plain": [
       "['logid=aaaaaa', 'logpwd=sfdsbfckjsdsdcdsc']"
      ]
     },
     "execution_count": 13,
     "metadata": {},
     "output_type": "execute_result"
    }
   ],
   "source": [
    "for i in b:\n",
    "    i = i.split('=')[1]\n",
    "b"
   ]
  },
  {
   "cell_type": "code",
   "execution_count": 18,
   "metadata": {},
   "outputs": [
    {
     "data": {
      "text/plain": [
       "b'\\xe3\\x80\\x80'"
      ]
     },
     "execution_count": 18,
     "metadata": {},
     "output_type": "execute_result"
    }
   ],
   "source": [
    "a = '　'\n",
    "a.encode()"
   ]
  },
  {
   "cell_type": "code",
   "execution_count": 19,
   "metadata": {},
   "outputs": [
    {
     "ename": "TypeError",
     "evalue": "a bytes-like object is required, not 'str'",
     "output_type": "error",
     "traceback": [
      "\u001b[0;31m---------------------------------------------------------------------------\u001b[0m",
      "\u001b[0;31mTypeError\u001b[0m                                 Traceback (most recent call last)",
      "\u001b[0;32m/tmp/ipykernel_430/1773876534.py\u001b[0m in \u001b[0;36m<module>\u001b[0;34m\u001b[0m\n\u001b[1;32m      1\u001b[0m \u001b[0ma\u001b[0m \u001b[0;34m=\u001b[0m \u001b[0;34m'root123'\u001b[0m\u001b[0;34m\u001b[0m\u001b[0;34m\u001b[0m\u001b[0m\n\u001b[1;32m      2\u001b[0m \u001b[0;32mimport\u001b[0m \u001b[0mbase64\u001b[0m\u001b[0;34m\u001b[0m\u001b[0;34m\u001b[0m\u001b[0m\n\u001b[0;32m----> 3\u001b[0;31m \u001b[0mbase64\u001b[0m\u001b[0;34m.\u001b[0m\u001b[0mb64encode\u001b[0m\u001b[0;34m(\u001b[0m\u001b[0ma\u001b[0m\u001b[0;34m)\u001b[0m\u001b[0;34m\u001b[0m\u001b[0;34m\u001b[0m\u001b[0m\n\u001b[0m",
      "\u001b[0;32m/usr/lib/python3.8/base64.py\u001b[0m in \u001b[0;36mb64encode\u001b[0;34m(s, altchars)\u001b[0m\n\u001b[1;32m     56\u001b[0m     \u001b[0mapplication\u001b[0m \u001b[0mto\u001b[0m \u001b[0me\u001b[0m\u001b[0;34m.\u001b[0m\u001b[0mg\u001b[0m\u001b[0;34m.\u001b[0m \u001b[0mgenerate\u001b[0m \u001b[0murl\u001b[0m \u001b[0;32mor\u001b[0m \u001b[0mfilesystem\u001b[0m \u001b[0msafe\u001b[0m \u001b[0mBase64\u001b[0m \u001b[0mstrings\u001b[0m\u001b[0;34m.\u001b[0m\u001b[0;34m\u001b[0m\u001b[0;34m\u001b[0m\u001b[0m\n\u001b[1;32m     57\u001b[0m     \"\"\"\n\u001b[0;32m---> 58\u001b[0;31m     \u001b[0mencoded\u001b[0m \u001b[0;34m=\u001b[0m \u001b[0mbinascii\u001b[0m\u001b[0;34m.\u001b[0m\u001b[0mb2a_base64\u001b[0m\u001b[0;34m(\u001b[0m\u001b[0ms\u001b[0m\u001b[0;34m,\u001b[0m \u001b[0mnewline\u001b[0m\u001b[0;34m=\u001b[0m\u001b[0;32mFalse\u001b[0m\u001b[0;34m)\u001b[0m\u001b[0;34m\u001b[0m\u001b[0;34m\u001b[0m\u001b[0m\n\u001b[0m\u001b[1;32m     59\u001b[0m     \u001b[0;32mif\u001b[0m \u001b[0maltchars\u001b[0m \u001b[0;32mis\u001b[0m \u001b[0;32mnot\u001b[0m \u001b[0;32mNone\u001b[0m\u001b[0;34m:\u001b[0m\u001b[0;34m\u001b[0m\u001b[0;34m\u001b[0m\u001b[0m\n\u001b[1;32m     60\u001b[0m         \u001b[0;32massert\u001b[0m \u001b[0mlen\u001b[0m\u001b[0;34m(\u001b[0m\u001b[0maltchars\u001b[0m\u001b[0;34m)\u001b[0m \u001b[0;34m==\u001b[0m \u001b[0;36m2\u001b[0m\u001b[0;34m,\u001b[0m \u001b[0mrepr\u001b[0m\u001b[0;34m(\u001b[0m\u001b[0maltchars\u001b[0m\u001b[0;34m)\u001b[0m\u001b[0;34m\u001b[0m\u001b[0;34m\u001b[0m\u001b[0m\n",
      "\u001b[0;31mTypeError\u001b[0m: a bytes-like object is required, not 'str'"
     ]
    }
   ],
   "source": [
    "a = 'root123'\n",
    "import base64\n",
    "base64.b64encode(a)"
   ]
  },
  {
   "cell_type": "code",
   "execution_count": 27,
   "metadata": {},
   "outputs": [
    {
     "data": {
      "text/plain": [
       "'3bd3452a-d9ea-4734-aa61-0ed4f0e84f0f'"
      ]
     },
     "execution_count": 27,
     "metadata": {},
     "output_type": "execute_result"
    }
   ],
   "source": [
    "import uuid\n",
    "str(uuid.uuid4())"
   ]
  },
  {
   "cell_type": "code",
   "execution_count": 29,
   "metadata": {},
   "outputs": [
    {
     "name": "stdout",
     "output_type": "stream",
     "text": [
      "bbc\n"
     ]
    }
   ],
   "source": [
    "a='abc'\n",
    "a= a.replace('a','b')\n",
    "print(a)"
   ]
  },
  {
   "cell_type": "code",
   "execution_count": 30,
   "metadata": {},
   "outputs": [
    {
     "data": {
      "text/plain": [
       "b'$Title$'"
      ]
     },
     "execution_count": 30,
     "metadata": {},
     "output_type": "execute_result"
    }
   ],
   "source": [
    "a='$Title$'\n",
    "a.encode()"
   ]
  },
  {
   "cell_type": "code",
   "execution_count": 35,
   "metadata": {},
   "outputs": [
    {
     "data": {
      "text/plain": [
       "1646455187761"
      ]
     },
     "execution_count": 35,
     "metadata": {},
     "output_type": "execute_result"
    }
   ],
   "source": [
    "import time\n",
    "int(round(time.time()*1000))"
   ]
  },
  {
   "cell_type": "code",
   "execution_count": 5,
   "metadata": {},
   "outputs": [],
   "source": [
    "class a:\n",
    "    def __init__(self):\n",
    "        self.b = 2\n",
    "    def __call__(self):\n",
    "        return self.b"
   ]
  },
  {
   "cell_type": "code",
   "execution_count": 3,
   "metadata": {},
   "outputs": [
    {
     "data": {
      "text/plain": [
       "{'a': 1, 'c': 3}"
      ]
     },
     "execution_count": 3,
     "metadata": {},
     "output_type": "execute_result"
    }
   ],
   "source": [
    "a={'a':1,'b':2,'c':3}\n",
    "for key in list(a):\n",
    "    if key == 'b':\n",
    "        a.pop(key)\n",
    "a\n"
   ]
  },
  {
   "cell_type": "code",
   "execution_count": 41,
   "metadata": {},
   "outputs": [
    {
     "data": {
      "text/plain": [
       "True"
      ]
     },
     "execution_count": 41,
     "metadata": {},
     "output_type": "execute_result"
    }
   ],
   "source": [
    "a = b'asb'\n",
    "isinstance(a,bytes)"
   ]
  },
  {
   "cell_type": "code",
   "execution_count": 38,
   "metadata": {},
   "outputs": [
    {
     "data": {
      "text/plain": [
       "2"
      ]
     },
     "execution_count": 38,
     "metadata": {},
     "output_type": "execute_result"
    }
   ],
   "source": [
    "aa()"
   ]
  }
 ],
 "metadata": {
  "interpreter": {
   "hash": "31f2aee4e71d21fbe5cf8b01ff0e069b9275f58929596ceb00d14d90e3e16cd6"
  },
  "kernelspec": {
   "display_name": "Python 3.8.10 64-bit",
   "language": "python",
   "name": "python3"
  },
  "language_info": {
   "codemirror_mode": {
    "name": "ipython",
    "version": 3
   },
   "file_extension": ".py",
   "mimetype": "text/x-python",
   "name": "python",
   "nbconvert_exporter": "python",
   "pygments_lexer": "ipython3",
   "version": "3.8.10"
  },
  "orig_nbformat": 4
 },
 "nbformat": 4,
 "nbformat_minor": 2
}
